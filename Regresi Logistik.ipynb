{
 "cells": [
  {
   "cell_type": "markdown",
   "id": "50029b8d",
   "metadata": {},
   "source": [
    "# Outline\n"
   ]
  },
  {
   "cell_type": "raw",
   "id": "c65664b8",
   "metadata": {},
   "source": [
    "import data\n",
    "Pembuatan Peubah Dummy\n",
    "Pembagian data (training testing)\n",
    "Modeling\n",
    "Prediksi Data Test\n",
    "\n"
   ]
  },
  {
   "cell_type": "markdown",
   "id": "4d0ade7c",
   "metadata": {},
   "source": [
    "### 1. Import Data"
   ]
  },
  {
   "cell_type": "code",
   "execution_count": 66,
   "id": "13b27e71",
   "metadata": {},
   "outputs": [],
   "source": [
    "import pandas as pd\n",
    "import numpy as np"
   ]
  },
  {
   "cell_type": "code",
   "execution_count": 67,
   "id": "5d3bab8f",
   "metadata": {},
   "outputs": [],
   "source": [
    "#import data\n",
    "datatree_label = pd.read_csv('D:/datatree_label.csv') \n",
    "datatree_nolabel = pd.read_csv('D:/datatree_nolabel.csv') #without label "
   ]
  },
  {
   "cell_type": "code",
   "execution_count": 68,
   "id": "a5783f13",
   "metadata": {},
   "outputs": [
    {
     "data": {
      "text/html": [
       "<div>\n",
       "<style scoped>\n",
       "    .dataframe tbody tr th:only-of-type {\n",
       "        vertical-align: middle;\n",
       "    }\n",
       "\n",
       "    .dataframe tbody tr th {\n",
       "        vertical-align: top;\n",
       "    }\n",
       "\n",
       "    .dataframe thead th {\n",
       "        text-align: right;\n",
       "    }\n",
       "</style>\n",
       "<table border=\"1\" class=\"dataframe\">\n",
       "  <thead>\n",
       "    <tr style=\"text-align: right;\">\n",
       "      <th></th>\n",
       "      <th>ID Nasabah</th>\n",
       "      <th>Jenis Kelamin</th>\n",
       "      <th>Single</th>\n",
       "      <th>Tinggal di Kota</th>\n",
       "      <th>usia</th>\n",
       "      <th>Perokok</th>\n",
       "      <th>Budget</th>\n",
       "      <th>Kesukaan</th>\n",
       "      <th>Tertarik Beli?</th>\n",
       "    </tr>\n",
       "  </thead>\n",
       "  <tbody>\n",
       "    <tr>\n",
       "      <th>970</th>\n",
       "      <td>300</td>\n",
       "      <td>0</td>\n",
       "      <td>1</td>\n",
       "      <td>0</td>\n",
       "      <td>29</td>\n",
       "      <td>0</td>\n",
       "      <td>medium</td>\n",
       "      <td>Busana</td>\n",
       "      <td>0</td>\n",
       "    </tr>\n",
       "    <tr>\n",
       "      <th>971</th>\n",
       "      <td>261</td>\n",
       "      <td>0</td>\n",
       "      <td>1</td>\n",
       "      <td>0</td>\n",
       "      <td>34</td>\n",
       "      <td>0</td>\n",
       "      <td>low</td>\n",
       "      <td>Lainnya</td>\n",
       "      <td>0</td>\n",
       "    </tr>\n",
       "    <tr>\n",
       "      <th>972</th>\n",
       "      <td>1011</td>\n",
       "      <td>1</td>\n",
       "      <td>1</td>\n",
       "      <td>0</td>\n",
       "      <td>28</td>\n",
       "      <td>0</td>\n",
       "      <td>low</td>\n",
       "      <td>Seni</td>\n",
       "      <td>0</td>\n",
       "    </tr>\n",
       "    <tr>\n",
       "      <th>973</th>\n",
       "      <td>273</td>\n",
       "      <td>1</td>\n",
       "      <td>1</td>\n",
       "      <td>1</td>\n",
       "      <td>39</td>\n",
       "      <td>1</td>\n",
       "      <td>low</td>\n",
       "      <td>Busana</td>\n",
       "      <td>0</td>\n",
       "    </tr>\n",
       "    <tr>\n",
       "      <th>974</th>\n",
       "      <td>546</td>\n",
       "      <td>1</td>\n",
       "      <td>1</td>\n",
       "      <td>0</td>\n",
       "      <td>27</td>\n",
       "      <td>1</td>\n",
       "      <td>medium</td>\n",
       "      <td>Busana</td>\n",
       "      <td>1</td>\n",
       "    </tr>\n",
       "  </tbody>\n",
       "</table>\n",
       "</div>"
      ],
      "text/plain": [
       "     ID Nasabah  Jenis Kelamin  Single  Tinggal di Kota  usia  Perokok  \\\n",
       "970         300              0       1                0    29        0   \n",
       "971         261              0       1                0    34        0   \n",
       "972        1011              1       1                0    28        0   \n",
       "973         273              1       1                1    39        1   \n",
       "974         546              1       1                0    27        1   \n",
       "\n",
       "     Budget Kesukaan  Tertarik Beli?  \n",
       "970  medium   Busana               0  \n",
       "971     low  Lainnya               0  \n",
       "972     low     Seni               0  \n",
       "973     low   Busana               0  \n",
       "974  medium   Busana               1  "
      ]
     },
     "execution_count": 68,
     "metadata": {},
     "output_type": "execute_result"
    }
   ],
   "source": [
    "datatree_label.tail()\n"
   ]
  },
  {
   "cell_type": "code",
   "execution_count": 69,
   "id": "4f90fd61",
   "metadata": {},
   "outputs": [
    {
     "data": {
      "text/html": [
       "<div>\n",
       "<style scoped>\n",
       "    .dataframe tbody tr th:only-of-type {\n",
       "        vertical-align: middle;\n",
       "    }\n",
       "\n",
       "    .dataframe tbody tr th {\n",
       "        vertical-align: top;\n",
       "    }\n",
       "\n",
       "    .dataframe thead th {\n",
       "        text-align: right;\n",
       "    }\n",
       "</style>\n",
       "<table border=\"1\" class=\"dataframe\">\n",
       "  <thead>\n",
       "    <tr style=\"text-align: right;\">\n",
       "      <th></th>\n",
       "      <th>ID Nasabah</th>\n",
       "      <th>Jenis Kelamin</th>\n",
       "      <th>Single</th>\n",
       "      <th>Tinggal di Kota</th>\n",
       "      <th>usia</th>\n",
       "      <th>Perokok</th>\n",
       "      <th>Budget</th>\n",
       "      <th>Kesukaan</th>\n",
       "    </tr>\n",
       "  </thead>\n",
       "  <tbody>\n",
       "    <tr>\n",
       "      <th>104</th>\n",
       "      <td>960</td>\n",
       "      <td>0</td>\n",
       "      <td>1</td>\n",
       "      <td>1</td>\n",
       "      <td>28</td>\n",
       "      <td>0</td>\n",
       "      <td>medium</td>\n",
       "      <td>Busana</td>\n",
       "    </tr>\n",
       "    <tr>\n",
       "      <th>105</th>\n",
       "      <td>501</td>\n",
       "      <td>1</td>\n",
       "      <td>1</td>\n",
       "      <td>0</td>\n",
       "      <td>39</td>\n",
       "      <td>0</td>\n",
       "      <td>low</td>\n",
       "      <td>Lainnya</td>\n",
       "    </tr>\n",
       "    <tr>\n",
       "      <th>106</th>\n",
       "      <td>231</td>\n",
       "      <td>0</td>\n",
       "      <td>1</td>\n",
       "      <td>0</td>\n",
       "      <td>34</td>\n",
       "      <td>0</td>\n",
       "      <td>high</td>\n",
       "      <td>Seni</td>\n",
       "    </tr>\n",
       "    <tr>\n",
       "      <th>107</th>\n",
       "      <td>292</td>\n",
       "      <td>1</td>\n",
       "      <td>1</td>\n",
       "      <td>0</td>\n",
       "      <td>35</td>\n",
       "      <td>0</td>\n",
       "      <td>medium</td>\n",
       "      <td>Tekno</td>\n",
       "    </tr>\n",
       "    <tr>\n",
       "      <th>108</th>\n",
       "      <td>481</td>\n",
       "      <td>1</td>\n",
       "      <td>1</td>\n",
       "      <td>0</td>\n",
       "      <td>37</td>\n",
       "      <td>0</td>\n",
       "      <td>low</td>\n",
       "      <td>Seni</td>\n",
       "    </tr>\n",
       "  </tbody>\n",
       "</table>\n",
       "</div>"
      ],
      "text/plain": [
       "     ID Nasabah  Jenis Kelamin  Single  Tinggal di Kota  usia  Perokok  \\\n",
       "104         960              0       1                1    28        0   \n",
       "105         501              1       1                0    39        0   \n",
       "106         231              0       1                0    34        0   \n",
       "107         292              1       1                0    35        0   \n",
       "108         481              1       1                0    37        0   \n",
       "\n",
       "     Budget Kesukaan  \n",
       "104  medium   Busana  \n",
       "105     low  Lainnya  \n",
       "106    high     Seni  \n",
       "107  medium    Tekno  \n",
       "108     low     Seni  "
      ]
     },
     "execution_count": 69,
     "metadata": {},
     "output_type": "execute_result"
    }
   ],
   "source": [
    "datatree_nolabel.tail()"
   ]
  },
  {
   "cell_type": "markdown",
   "id": "47070709",
   "metadata": {},
   "source": [
    "### 2. Pembuatan Peubah dummy"
   ]
  },
  {
   "cell_type": "markdown",
   "id": "143779fe",
   "metadata": {},
   "source": [
    "###### Menyamakan struktur"
   ]
  },
  {
   "cell_type": "code",
   "execution_count": 70,
   "id": "7edd4197",
   "metadata": {},
   "outputs": [
    {
     "data": {
      "text/html": [
       "<div>\n",
       "<style scoped>\n",
       "    .dataframe tbody tr th:only-of-type {\n",
       "        vertical-align: middle;\n",
       "    }\n",
       "\n",
       "    .dataframe tbody tr th {\n",
       "        vertical-align: top;\n",
       "    }\n",
       "\n",
       "    .dataframe thead th {\n",
       "        text-align: right;\n",
       "    }\n",
       "</style>\n",
       "<table border=\"1\" class=\"dataframe\">\n",
       "  <thead>\n",
       "    <tr style=\"text-align: right;\">\n",
       "      <th></th>\n",
       "      <th>ID Nasabah</th>\n",
       "      <th>Jenis Kelamin</th>\n",
       "      <th>Single</th>\n",
       "      <th>Tinggal di Kota</th>\n",
       "      <th>usia</th>\n",
       "      <th>Perokok</th>\n",
       "      <th>Budget</th>\n",
       "      <th>Kesukaan</th>\n",
       "      <th>Tertarik Beli?</th>\n",
       "    </tr>\n",
       "  </thead>\n",
       "  <tbody>\n",
       "    <tr>\n",
       "      <th>0</th>\n",
       "      <td>436</td>\n",
       "      <td>1</td>\n",
       "      <td>1</td>\n",
       "      <td>1</td>\n",
       "      <td>34</td>\n",
       "      <td>0</td>\n",
       "      <td>medium</td>\n",
       "      <td>Busana</td>\n",
       "      <td>9999</td>\n",
       "    </tr>\n",
       "    <tr>\n",
       "      <th>1</th>\n",
       "      <td>403</td>\n",
       "      <td>0</td>\n",
       "      <td>1</td>\n",
       "      <td>0</td>\n",
       "      <td>33</td>\n",
       "      <td>0</td>\n",
       "      <td>low</td>\n",
       "      <td>Tekno</td>\n",
       "      <td>9999</td>\n",
       "    </tr>\n",
       "    <tr>\n",
       "      <th>2</th>\n",
       "      <td>119</td>\n",
       "      <td>0</td>\n",
       "      <td>1</td>\n",
       "      <td>0</td>\n",
       "      <td>38</td>\n",
       "      <td>1</td>\n",
       "      <td>low</td>\n",
       "      <td>Tekno</td>\n",
       "      <td>9999</td>\n",
       "    </tr>\n",
       "    <tr>\n",
       "      <th>3</th>\n",
       "      <td>565</td>\n",
       "      <td>1</td>\n",
       "      <td>1</td>\n",
       "      <td>1</td>\n",
       "      <td>32</td>\n",
       "      <td>0</td>\n",
       "      <td>medium</td>\n",
       "      <td>Seni</td>\n",
       "      <td>9999</td>\n",
       "    </tr>\n",
       "    <tr>\n",
       "      <th>4</th>\n",
       "      <td>281</td>\n",
       "      <td>0</td>\n",
       "      <td>0</td>\n",
       "      <td>0</td>\n",
       "      <td>29</td>\n",
       "      <td>0</td>\n",
       "      <td>low</td>\n",
       "      <td>Tekno</td>\n",
       "      <td>9999</td>\n",
       "    </tr>\n",
       "  </tbody>\n",
       "</table>\n",
       "</div>"
      ],
      "text/plain": [
       "   ID Nasabah  Jenis Kelamin  Single  Tinggal di Kota  usia  Perokok  Budget  \\\n",
       "0         436              1       1                1    34        0  medium   \n",
       "1         403              0       1                0    33        0     low   \n",
       "2         119              0       1                0    38        1     low   \n",
       "3         565              1       1                1    32        0  medium   \n",
       "4         281              0       0                0    29        0     low   \n",
       "\n",
       "  Kesukaan  Tertarik Beli?  \n",
       "0   Busana            9999  \n",
       "1    Tekno            9999  \n",
       "2    Tekno            9999  \n",
       "3     Seni            9999  \n",
       "4    Tekno            9999  "
      ]
     },
     "execution_count": 70,
     "metadata": {},
     "output_type": "execute_result"
    }
   ],
   "source": [
    "datatree_nolabel['Tertarik Beli?'] = 9999\n",
    "datatree_nolabel.head()"
   ]
  },
  {
   "cell_type": "markdown",
   "id": "cb61f790",
   "metadata": {},
   "source": [
    "###### Gabungkan dua data"
   ]
  },
  {
   "cell_type": "code",
   "execution_count": 71,
   "id": "165deeb0",
   "metadata": {},
   "outputs": [],
   "source": [
    "datatree = datatree_label.append(datatree_nolabel) "
   ]
  },
  {
   "cell_type": "code",
   "execution_count": 72,
   "id": "3f645445",
   "metadata": {},
   "outputs": [
    {
     "data": {
      "text/plain": [
       "(1084, 9)"
      ]
     },
     "execution_count": 72,
     "metadata": {},
     "output_type": "execute_result"
    }
   ],
   "source": [
    "#see dimention of data\n",
    "datatree.shape"
   ]
  },
  {
   "cell_type": "markdown",
   "id": "ca4db784",
   "metadata": {},
   "source": [
    "###### Pendefisian Data"
   ]
  },
  {
   "cell_type": "code",
   "execution_count": 73,
   "id": "be3f0f7e",
   "metadata": {},
   "outputs": [],
   "source": [
    "## define the value from variable\n",
    "datatree['Jenis Kelamin'] = datatree['Jenis Kelamin'].map({1:'Laki-Laki',\n",
    "                                                           0:'Perempuan'})\n",
    "datatree['Single'] = datatree['Single'].map({1:'Single',\n",
    "                                             0:'Tidak Single'})\n",
    "datatree['Tinggal di Kota'] = datatree['Tinggal di Kota'].map({1:'Tinggal di kota',\n",
    "                                                               0:'Tinggal di pedesaan'})\n",
    "datatree['Perokok'] = datatree['Perokok'].map({1:'Perokok',\n",
    "                                               0:'Bukan Perokok'})\n"
   ]
  },
  {
   "cell_type": "markdown",
   "id": "7d1cae39",
   "metadata": {},
   "source": [
    "###### Eksplorasi Data"
   ]
  },
  {
   "cell_type": "code",
   "execution_count": 74,
   "id": "829d7303",
   "metadata": {},
   "outputs": [
    {
     "data": {
      "image/png": "[encoded data removed]",
      "text/plain": [
       "<Figure size 432x288 with 1 Axes>"
      ]
     },
     "metadata": {},
     "output_type": "display_data"
    }
   ],
   "source": [
    "# library untuk eksplorasi data\n",
    "import matplotlib.pyplot as plt\n",
    "import seaborn as sns\n",
    "\n",
    "# menghitung ukuran diagram pie\n",
    "size = [sum(datatree_label['Tertarik Beli?']),\n",
    "        len(datatree_label['Tertarik Beli?'])-sum(datatree_label['Tertarik Beli?'])]\n",
    "\n",
    "labels = ['tertarik beli','tidak tertarik']\n",
    "\n",
    "# memilih warna\n",
    "color = [\"blue\",\"grey\"]\n",
    "\n",
    "# diagram pie \n",
    "plt.pie(size,labels=labels,colors=color,autopct='%2.2f%%')\n",
    "\n",
    "plt.axis('equal')\n",
    "plt.show()"
   ]
  },
  {
   "cell_type": "code",
   "execution_count": 75,
   "id": "10222f41",
   "metadata": {},
   "outputs": [
    {
     "data": {
      "text/plain": [
       "['ID Nasabah',\n",
       " 'Jenis Kelamin',\n",
       " 'Single',\n",
       " 'Tinggal di Kota',\n",
       " 'usia',\n",
       " 'Perokok',\n",
       " 'Budget',\n",
       " 'Kesukaan',\n",
       " 'Tertarik Beli?']"
      ]
     },
     "execution_count": 75,
     "metadata": {},
     "output_type": "execute_result"
    }
   ],
   "source": [
    "#make dummy varible\n",
    "list(datatree)"
   ]
  },
  {
   "cell_type": "code",
   "execution_count": 76,
   "id": "9a75cdaf",
   "metadata": {},
   "outputs": [
    {
     "data": {
      "text/html": [
       "<div>\n",
       "<style scoped>\n",
       "    .dataframe tbody tr th:only-of-type {\n",
       "        vertical-align: middle;\n",
       "    }\n",
       "\n",
       "    .dataframe tbody tr th {\n",
       "        vertical-align: top;\n",
       "    }\n",
       "\n",
       "    .dataframe thead th {\n",
       "        text-align: right;\n",
       "    }\n",
       "</style>\n",
       "<table border=\"1\" class=\"dataframe\">\n",
       "  <thead>\n",
       "    <tr style=\"text-align: right;\">\n",
       "      <th></th>\n",
       "      <th>ID Nasabah</th>\n",
       "      <th>Jenis Kelamin</th>\n",
       "      <th>Single</th>\n",
       "      <th>Tinggal di Kota</th>\n",
       "      <th>usia</th>\n",
       "      <th>Perokok</th>\n",
       "      <th>Budget</th>\n",
       "      <th>Kesukaan</th>\n",
       "      <th>Tertarik Beli?</th>\n",
       "    </tr>\n",
       "  </thead>\n",
       "  <tbody>\n",
       "    <tr>\n",
       "      <th>0</th>\n",
       "      <td>609</td>\n",
       "      <td>Laki-Laki</td>\n",
       "      <td>Single</td>\n",
       "      <td>Tinggal di pedesaan</td>\n",
       "      <td>39</td>\n",
       "      <td>Bukan Perokok</td>\n",
       "      <td>medium</td>\n",
       "      <td>Tekno</td>\n",
       "      <td>1</td>\n",
       "    </tr>\n",
       "    <tr>\n",
       "      <th>1</th>\n",
       "      <td>424</td>\n",
       "      <td>Laki-Laki</td>\n",
       "      <td>Single</td>\n",
       "      <td>Tinggal di pedesaan</td>\n",
       "      <td>39</td>\n",
       "      <td>Bukan Perokok</td>\n",
       "      <td>medium</td>\n",
       "      <td>Tekno</td>\n",
       "      <td>1</td>\n",
       "    </tr>\n",
       "    <tr>\n",
       "      <th>2</th>\n",
       "      <td>983</td>\n",
       "      <td>Perempuan</td>\n",
       "      <td>Single</td>\n",
       "      <td>Tinggal di kota</td>\n",
       "      <td>39</td>\n",
       "      <td>Bukan Perokok</td>\n",
       "      <td>low</td>\n",
       "      <td>Seni</td>\n",
       "      <td>0</td>\n",
       "    </tr>\n",
       "    <tr>\n",
       "      <th>3</th>\n",
       "      <td>520</td>\n",
       "      <td>Laki-Laki</td>\n",
       "      <td>Single</td>\n",
       "      <td>Tinggal di pedesaan</td>\n",
       "      <td>32</td>\n",
       "      <td>Perokok</td>\n",
       "      <td>low</td>\n",
       "      <td>Seni</td>\n",
       "      <td>1</td>\n",
       "    </tr>\n",
       "    <tr>\n",
       "      <th>4</th>\n",
       "      <td>868</td>\n",
       "      <td>Laki-Laki</td>\n",
       "      <td>Single</td>\n",
       "      <td>Tinggal di pedesaan</td>\n",
       "      <td>38</td>\n",
       "      <td>Bukan Perokok</td>\n",
       "      <td>low</td>\n",
       "      <td>Tekno</td>\n",
       "      <td>0</td>\n",
       "    </tr>\n",
       "  </tbody>\n",
       "</table>\n",
       "</div>"
      ],
      "text/plain": [
       "   ID Nasabah Jenis Kelamin  Single      Tinggal di Kota  usia        Perokok  \\\n",
       "0         609     Laki-Laki  Single  Tinggal di pedesaan    39  Bukan Perokok   \n",
       "1         424     Laki-Laki  Single  Tinggal di pedesaan    39  Bukan Perokok   \n",
       "2         983     Perempuan  Single      Tinggal di kota    39  Bukan Perokok   \n",
       "3         520     Laki-Laki  Single  Tinggal di pedesaan    32        Perokok   \n",
       "4         868     Laki-Laki  Single  Tinggal di pedesaan    38  Bukan Perokok   \n",
       "\n",
       "   Budget Kesukaan  Tertarik Beli?  \n",
       "0  medium    Tekno               1  \n",
       "1  medium    Tekno               1  \n",
       "2     low     Seni               0  \n",
       "3     low     Seni               1  \n",
       "4     low    Tekno               0  "
      ]
     },
     "execution_count": 76,
     "metadata": {},
     "output_type": "execute_result"
    }
   ],
   "source": [
    "datatree.head()"
   ]
  },
  {
   "cell_type": "code",
   "execution_count": 77,
   "id": "3890fee1",
   "metadata": {},
   "outputs": [
    {
     "name": "stdout",
     "output_type": "stream",
     "text": [
      "peubah awal:\n",
      " ['ID Nasabah', 'Jenis Kelamin', 'Single', 'Tinggal di Kota', 'usia', 'Perokok', 'Budget', 'Kesukaan', 'Tertarik Beli?'] \n",
      "\n"
     ]
    }
   ],
   "source": [
    "print(\"peubah awal:\\n\", list(datatree),\"\\n\")"
   ]
  },
  {
   "cell_type": "code",
   "execution_count": 78,
   "id": "7723243b",
   "metadata": {},
   "outputs": [
    {
     "data": {
      "text/plain": [
       "['Jenis Kelamin', 'Single', 'Tinggal di Kota', 'Perokok', 'Budget', 'Kesukaan']"
      ]
     },
     "execution_count": 78,
     "metadata": {},
     "output_type": "execute_result"
    }
   ],
   "source": [
    "peubah = list(datatree)[1:4]+list(datatree)[5:8]\n",
    "peubah"
   ]
  },
  {
   "cell_type": "code",
   "execution_count": 79,
   "id": "e1212e1c",
   "metadata": {},
   "outputs": [
    {
     "name": "stdout",
     "output_type": "stream",
     "text": [
      "peubah setelah dummy dibuat:\n",
      " ['ID Nasabah', 'usia', 'Tertarik Beli?', 'Jenis Kelamin_Perempuan', 'Single_Tidak Single', 'Tinggal di Kota_Tinggal di pedesaan', 'Perokok_Perokok', 'Budget_low', 'Budget_medium', 'Kesukaan_Lainnya', 'Kesukaan_Seni', 'Kesukaan_Tekno'] \n",
      "\n"
     ]
    }
   ],
   "source": [
    "# pembuatan dummy variable secara otomatis untuk semua peubah kategorik\n",
    "datatree_dummy = pd.get_dummies(datatree,drop_first=True,columns=peubah)\n",
    "print(\"peubah setelah dummy dibuat:\\n\", list(datatree_dummy),\"\\n\")"
   ]
  },
  {
   "cell_type": "markdown",
   "id": "c878c7f6",
   "metadata": {},
   "source": [
    "###### Pemisahan kembali"
   ]
  },
  {
   "cell_type": "code",
   "execution_count": 80,
   "id": "093aa1de",
   "metadata": {},
   "outputs": [],
   "source": [
    "datatree_label = datatree_dummy[datatree_dummy['Tertarik Beli?'] != 9999]\n",
    "datatree_nolabel = datatree_dummy[datatree_dummy['Tertarik Beli?'] == 9999]"
   ]
  },
  {
   "cell_type": "code",
   "execution_count": 81,
   "id": "e8a113e2",
   "metadata": {},
   "outputs": [
    {
     "data": {
      "text/html": [
       "<div>\n",
       "<style scoped>\n",
       "    .dataframe tbody tr th:only-of-type {\n",
       "        vertical-align: middle;\n",
       "    }\n",
       "\n",
       "    .dataframe tbody tr th {\n",
       "        vertical-align: top;\n",
       "    }\n",
       "\n",
       "    .dataframe thead th {\n",
       "        text-align: right;\n",
       "    }\n",
       "</style>\n",
       "<table border=\"1\" class=\"dataframe\">\n",
       "  <thead>\n",
       "    <tr style=\"text-align: right;\">\n",
       "      <th></th>\n",
       "      <th>ID Nasabah</th>\n",
       "      <th>usia</th>\n",
       "      <th>Tertarik Beli?</th>\n",
       "      <th>Jenis Kelamin_Perempuan</th>\n",
       "      <th>Single_Tidak Single</th>\n",
       "      <th>Tinggal di Kota_Tinggal di pedesaan</th>\n",
       "      <th>Perokok_Perokok</th>\n",
       "      <th>Budget_low</th>\n",
       "      <th>Budget_medium</th>\n",
       "      <th>Kesukaan_Lainnya</th>\n",
       "      <th>Kesukaan_Seni</th>\n",
       "      <th>Kesukaan_Tekno</th>\n",
       "    </tr>\n",
       "  </thead>\n",
       "  <tbody>\n",
       "    <tr>\n",
       "      <th>0</th>\n",
       "      <td>609</td>\n",
       "      <td>39</td>\n",
       "      <td>1</td>\n",
       "      <td>0</td>\n",
       "      <td>0</td>\n",
       "      <td>1</td>\n",
       "      <td>0</td>\n",
       "      <td>0</td>\n",
       "      <td>1</td>\n",
       "      <td>0</td>\n",
       "      <td>0</td>\n",
       "      <td>1</td>\n",
       "    </tr>\n",
       "    <tr>\n",
       "      <th>1</th>\n",
       "      <td>424</td>\n",
       "      <td>39</td>\n",
       "      <td>1</td>\n",
       "      <td>0</td>\n",
       "      <td>0</td>\n",
       "      <td>1</td>\n",
       "      <td>0</td>\n",
       "      <td>0</td>\n",
       "      <td>1</td>\n",
       "      <td>0</td>\n",
       "      <td>0</td>\n",
       "      <td>1</td>\n",
       "    </tr>\n",
       "    <tr>\n",
       "      <th>2</th>\n",
       "      <td>983</td>\n",
       "      <td>39</td>\n",
       "      <td>0</td>\n",
       "      <td>1</td>\n",
       "      <td>0</td>\n",
       "      <td>0</td>\n",
       "      <td>0</td>\n",
       "      <td>1</td>\n",
       "      <td>0</td>\n",
       "      <td>0</td>\n",
       "      <td>1</td>\n",
       "      <td>0</td>\n",
       "    </tr>\n",
       "    <tr>\n",
       "      <th>3</th>\n",
       "      <td>520</td>\n",
       "      <td>32</td>\n",
       "      <td>1</td>\n",
       "      <td>0</td>\n",
       "      <td>0</td>\n",
       "      <td>1</td>\n",
       "      <td>1</td>\n",
       "      <td>1</td>\n",
       "      <td>0</td>\n",
       "      <td>0</td>\n",
       "      <td>1</td>\n",
       "      <td>0</td>\n",
       "    </tr>\n",
       "    <tr>\n",
       "      <th>4</th>\n",
       "      <td>868</td>\n",
       "      <td>38</td>\n",
       "      <td>0</td>\n",
       "      <td>0</td>\n",
       "      <td>0</td>\n",
       "      <td>1</td>\n",
       "      <td>0</td>\n",
       "      <td>1</td>\n",
       "      <td>0</td>\n",
       "      <td>0</td>\n",
       "      <td>0</td>\n",
       "      <td>1</td>\n",
       "    </tr>\n",
       "  </tbody>\n",
       "</table>\n",
       "</div>"
      ],
      "text/plain": [
       "   ID Nasabah  usia  Tertarik Beli?  Jenis Kelamin_Perempuan  \\\n",
       "0         609    39               1                        0   \n",
       "1         424    39               1                        0   \n",
       "2         983    39               0                        1   \n",
       "3         520    32               1                        0   \n",
       "4         868    38               0                        0   \n",
       "\n",
       "   Single_Tidak Single  Tinggal di Kota_Tinggal di pedesaan  Perokok_Perokok  \\\n",
       "0                    0                                    1                0   \n",
       "1                    0                                    1                0   \n",
       "2                    0                                    0                0   \n",
       "3                    0                                    1                1   \n",
       "4                    0                                    1                0   \n",
       "\n",
       "   Budget_low  Budget_medium  Kesukaan_Lainnya  Kesukaan_Seni  Kesukaan_Tekno  \n",
       "0           0              1                 0              0               1  \n",
       "1           0              1                 0              0               1  \n",
       "2           1              0                 0              1               0  \n",
       "3           1              0                 0              1               0  \n",
       "4           1              0                 0              0               1  "
      ]
     },
     "execution_count": 81,
     "metadata": {},
     "output_type": "execute_result"
    }
   ],
   "source": [
    "datatree_label.head()"
   ]
  },
  {
   "cell_type": "code",
   "execution_count": 82,
   "id": "608ae779",
   "metadata": {},
   "outputs": [
    {
     "data": {
      "text/html": [
       "<div>\n",
       "<style scoped>\n",
       "    .dataframe tbody tr th:only-of-type {\n",
       "        vertical-align: middle;\n",
       "    }\n",
       "\n",
       "    .dataframe tbody tr th {\n",
       "        vertical-align: top;\n",
       "    }\n",
       "\n",
       "    .dataframe thead th {\n",
       "        text-align: right;\n",
       "    }\n",
       "</style>\n",
       "<table border=\"1\" class=\"dataframe\">\n",
       "  <thead>\n",
       "    <tr style=\"text-align: right;\">\n",
       "      <th></th>\n",
       "      <th>ID Nasabah</th>\n",
       "      <th>usia</th>\n",
       "      <th>Tertarik Beli?</th>\n",
       "      <th>Jenis Kelamin_Perempuan</th>\n",
       "      <th>Single_Tidak Single</th>\n",
       "      <th>Tinggal di Kota_Tinggal di pedesaan</th>\n",
       "      <th>Perokok_Perokok</th>\n",
       "      <th>Budget_low</th>\n",
       "      <th>Budget_medium</th>\n",
       "      <th>Kesukaan_Lainnya</th>\n",
       "      <th>Kesukaan_Seni</th>\n",
       "      <th>Kesukaan_Tekno</th>\n",
       "    </tr>\n",
       "  </thead>\n",
       "  <tbody>\n",
       "    <tr>\n",
       "      <th>0</th>\n",
       "      <td>436</td>\n",
       "      <td>34</td>\n",
       "      <td>9999</td>\n",
       "      <td>0</td>\n",
       "      <td>0</td>\n",
       "      <td>0</td>\n",
       "      <td>0</td>\n",
       "      <td>0</td>\n",
       "      <td>1</td>\n",
       "      <td>0</td>\n",
       "      <td>0</td>\n",
       "      <td>0</td>\n",
       "    </tr>\n",
       "    <tr>\n",
       "      <th>1</th>\n",
       "      <td>403</td>\n",
       "      <td>33</td>\n",
       "      <td>9999</td>\n",
       "      <td>1</td>\n",
       "      <td>0</td>\n",
       "      <td>1</td>\n",
       "      <td>0</td>\n",
       "      <td>1</td>\n",
       "      <td>0</td>\n",
       "      <td>0</td>\n",
       "      <td>0</td>\n",
       "      <td>1</td>\n",
       "    </tr>\n",
       "    <tr>\n",
       "      <th>2</th>\n",
       "      <td>119</td>\n",
       "      <td>38</td>\n",
       "      <td>9999</td>\n",
       "      <td>1</td>\n",
       "      <td>0</td>\n",
       "      <td>1</td>\n",
       "      <td>1</td>\n",
       "      <td>1</td>\n",
       "      <td>0</td>\n",
       "      <td>0</td>\n",
       "      <td>0</td>\n",
       "      <td>1</td>\n",
       "    </tr>\n",
       "    <tr>\n",
       "      <th>3</th>\n",
       "      <td>565</td>\n",
       "      <td>32</td>\n",
       "      <td>9999</td>\n",
       "      <td>0</td>\n",
       "      <td>0</td>\n",
       "      <td>0</td>\n",
       "      <td>0</td>\n",
       "      <td>0</td>\n",
       "      <td>1</td>\n",
       "      <td>0</td>\n",
       "      <td>1</td>\n",
       "      <td>0</td>\n",
       "    </tr>\n",
       "    <tr>\n",
       "      <th>4</th>\n",
       "      <td>281</td>\n",
       "      <td>29</td>\n",
       "      <td>9999</td>\n",
       "      <td>1</td>\n",
       "      <td>1</td>\n",
       "      <td>1</td>\n",
       "      <td>0</td>\n",
       "      <td>1</td>\n",
       "      <td>0</td>\n",
       "      <td>0</td>\n",
       "      <td>0</td>\n",
       "      <td>1</td>\n",
       "    </tr>\n",
       "  </tbody>\n",
       "</table>\n",
       "</div>"
      ],
      "text/plain": [
       "   ID Nasabah  usia  Tertarik Beli?  Jenis Kelamin_Perempuan  \\\n",
       "0         436    34            9999                        0   \n",
       "1         403    33            9999                        1   \n",
       "2         119    38            9999                        1   \n",
       "3         565    32            9999                        0   \n",
       "4         281    29            9999                        1   \n",
       "\n",
       "   Single_Tidak Single  Tinggal di Kota_Tinggal di pedesaan  Perokok_Perokok  \\\n",
       "0                    0                                    0                0   \n",
       "1                    0                                    1                0   \n",
       "2                    0                                    1                1   \n",
       "3                    0                                    0                0   \n",
       "4                    1                                    1                0   \n",
       "\n",
       "   Budget_low  Budget_medium  Kesukaan_Lainnya  Kesukaan_Seni  Kesukaan_Tekno  \n",
       "0           0              1                 0              0               0  \n",
       "1           1              0                 0              0               1  \n",
       "2           1              0                 0              0               1  \n",
       "3           0              1                 0              1               0  \n",
       "4           1              0                 0              0               1  "
      ]
     },
     "execution_count": 82,
     "metadata": {},
     "output_type": "execute_result"
    }
   ],
   "source": [
    "datatree_nolabel.head()"
   ]
  },
  {
   "cell_type": "code",
   "execution_count": 83,
   "id": "d90fcf52",
   "metadata": {},
   "outputs": [],
   "source": [
    "datatree_label=datatree_dummy[datatree_dummy['Tertarik Beli?']<100]"
   ]
  },
  {
   "cell_type": "markdown",
   "id": "e5f4825c",
   "metadata": {},
   "source": [
    "### 3. Pembagian data"
   ]
  },
  {
   "cell_type": "code",
   "execution_count": 84,
   "id": "b4d8160e",
   "metadata": {},
   "outputs": [
    {
     "data": {
      "text/plain": [
       "['Jenis Kelamin_Perempuan',\n",
       " 'Single_Tidak Single',\n",
       " 'Tinggal di Kota_Tinggal di pedesaan',\n",
       " 'Perokok_Perokok',\n",
       " 'Budget_low',\n",
       " 'Budget_medium',\n",
       " 'Kesukaan_Lainnya',\n",
       " 'Kesukaan_Seni',\n",
       " 'Kesukaan_Tekno',\n",
       " 'usia']"
      ]
     },
     "execution_count": 84,
     "metadata": {},
     "output_type": "execute_result"
    }
   ],
   "source": [
    "peubah_penjelas = list(datatree_dummy)[3:]+['usia']\n",
    "peubah_penjelas"
   ]
  },
  {
   "cell_type": "code",
   "execution_count": 85,
   "id": "c63b63c0",
   "metadata": {},
   "outputs": [],
   "source": [
    "y = datatree_label['Tertarik Beli?']"
   ]
  },
  {
   "cell_type": "code",
   "execution_count": 86,
   "id": "59525987",
   "metadata": {},
   "outputs": [],
   "source": [
    "from sklearn.model_selection import train_test_split"
   ]
  },
  {
   "cell_type": "code",
   "execution_count": 87,
   "id": "63dacdae",
   "metadata": {},
   "outputs": [],
   "source": [
    "X_train, X_test, y_train, y_test = train_test_split(datatree_label[peubah_penjelas],y)"
   ]
  },
  {
   "cell_type": "markdown",
   "id": "87488b54",
   "metadata": {},
   "source": [
    "### 4. Modelling"
   ]
  },
  {
   "cell_type": "code",
   "execution_count": 88,
   "id": "2cc669fc",
   "metadata": {},
   "outputs": [
    {
     "name": "stdout",
     "output_type": "stream",
     "text": [
      "Optimization terminated successfully.\n",
      "         Current function value: 0.184461\n",
      "         Iterations 10\n",
      "                           Logit Regression Results                           \n",
      "==============================================================================\n",
      "Dep. Variable:         Tertarik Beli?   No. Observations:                  731\n",
      "Model:                          Logit   Df Residuals:                      721\n",
      "Method:                           MLE   Df Model:                            9\n",
      "Date:                Wed, 19 Oct 2022   Pseudo R-squ.:                  0.7058\n",
      "Time:                        10:41:09   Log-Likelihood:                -134.84\n",
      "converged:                       True   LL-Null:                       -458.30\n",
      "Covariance Type:            nonrobust   LLR p-value:                1.763e-133\n",
      "=======================================================================================================\n",
      "                                          coef    std err          z      P>|z|      [0.025      0.975]\n",
      "-------------------------------------------------------------------------------------------------------\n",
      "Jenis Kelamin_Perempuan                -6.6908      0.765     -8.748      0.000      -8.190      -5.192\n",
      "Single_Tidak Single                    -0.7363      0.392     -1.880      0.060      -1.504       0.031\n",
      "Tinggal di Kota_Tinggal di pedesaan    -0.3820      0.325     -1.176      0.239      -1.018       0.254\n",
      "Perokok_Perokok                         3.3290      0.459      7.259      0.000       2.430       4.228\n",
      "Budget_low                             -2.9175      0.446     -6.547      0.000      -3.791      -2.044\n",
      "Budget_medium                           3.9444      0.757      5.211      0.000       2.461       5.428\n",
      "Kesukaan_Lainnya                       -0.7083      0.637     -1.112      0.266      -1.957       0.541\n",
      "Kesukaan_Seni                          -0.1180      0.455     -0.260      0.795      -1.009       0.773\n",
      "Kesukaan_Tekno                         -0.2178      0.401     -0.544      0.587      -1.003       0.567\n",
      "usia                                    0.0303      0.013      2.318      0.020       0.005       0.056\n",
      "=======================================================================================================\n"
     ]
    }
   ],
   "source": [
    "import statsmodels.api as sm\n",
    "\n",
    "logit_model = sm.Logit(y_train,X_train)\n",
    "result = logit_model.fit()\n",
    "\n",
    "print(result.summary())"
   ]
  },
  {
   "cell_type": "code",
   "execution_count": 89,
   "id": "276f3612",
   "metadata": {},
   "outputs": [],
   "source": [
    "from sklearn.linear_model import LogisticRegression"
   ]
  },
  {
   "cell_type": "code",
   "execution_count": 90,
   "id": "ec282248",
   "metadata": {},
   "outputs": [],
   "source": [
    "logreg = LogisticRegression()"
   ]
  },
  {
   "cell_type": "code",
   "execution_count": 91,
   "id": "a5a94354",
   "metadata": {},
   "outputs": [
    {
     "name": "stderr",
     "output_type": "stream",
     "text": [
      "C:\\ProgramData\\Anaconda3\\lib\\site-packages\\sklearn\\linear_model\\_logistic.py:763: ConvergenceWarning: lbfgs failed to converge (status=1):\n",
      "STOP: TOTAL NO. of ITERATIONS REACHED LIMIT.\n",
      "\n",
      "Increase the number of iterations (max_iter) or scale the data as shown in:\n",
      "    https://scikit-learn.org/stable/modules/preprocessing.html\n",
      "Please also refer to the documentation for alternative solver options:\n",
      "    https://scikit-learn.org/stable/modules/linear_model.html#logistic-regression\n",
      "  n_iter_i = _check_optimize_result(\n"
     ]
    },
    {
     "data": {
      "text/plain": [
       "LogisticRegression()"
      ]
     },
     "execution_count": 91,
     "metadata": {},
     "output_type": "execute_result"
    }
   ],
   "source": [
    "logreg.fit(X_train,y_train)"
   ]
  },
  {
   "cell_type": "code",
   "execution_count": 92,
   "id": "bb20d9c2",
   "metadata": {},
   "outputs": [
    {
     "data": {
      "text/plain": [
       "0.9262295081967213"
      ]
     },
     "execution_count": 92,
     "metadata": {},
     "output_type": "execute_result"
    }
   ],
   "source": [
    "# akurasi data test\n",
    "logreg.score(X_test,y_test)"
   ]
  },
  {
   "cell_type": "code",
   "execution_count": 93,
   "id": "f0f4e797",
   "metadata": {},
   "outputs": [
    {
     "data": {
      "text/plain": [
       "0.9274965800273598"
      ]
     },
     "execution_count": 93,
     "metadata": {},
     "output_type": "execute_result"
    }
   ],
   "source": [
    "# akurasi data train\n",
    "logreg.score(X_train,y_train)"
   ]
  },
  {
   "cell_type": "code",
   "execution_count": 94,
   "id": "f6e8b2b8",
   "metadata": {},
   "outputs": [],
   "source": [
    "# library untuk menghitung skor validasi silang\n",
    "from sklearn.model_selection import cross_val_score\n",
    "\n",
    "# library untuk melakukan validasi silang secara berstrata\n",
    "from sklearn.model_selection import StratifiedKFold"
   ]
  },
  {
   "cell_type": "code",
   "execution_count": 95,
   "id": "e8f8f129",
   "metadata": {},
   "outputs": [
    {
     "name": "stderr",
     "output_type": "stream",
     "text": [
      "C:\\ProgramData\\Anaconda3\\lib\\site-packages\\sklearn\\linear_model\\_logistic.py:763: ConvergenceWarning: lbfgs failed to converge (status=1):\n",
      "STOP: TOTAL NO. of ITERATIONS REACHED LIMIT.\n",
      "\n",
      "Increase the number of iterations (max_iter) or scale the data as shown in:\n",
      "    https://scikit-learn.org/stable/modules/preprocessing.html\n",
      "Please also refer to the documentation for alternative solver options:\n",
      "    https://scikit-learn.org/stable/modules/linear_model.html#logistic-regression\n",
      "  n_iter_i = _check_optimize_result(\n",
      "C:\\ProgramData\\Anaconda3\\lib\\site-packages\\sklearn\\linear_model\\_logistic.py:763: ConvergenceWarning: lbfgs failed to converge (status=1):\n",
      "STOP: TOTAL NO. of ITERATIONS REACHED LIMIT.\n",
      "\n",
      "Increase the number of iterations (max_iter) or scale the data as shown in:\n",
      "    https://scikit-learn.org/stable/modules/preprocessing.html\n",
      "Please also refer to the documentation for alternative solver options:\n",
      "    https://scikit-learn.org/stable/modules/linear_model.html#logistic-regression\n",
      "  n_iter_i = _check_optimize_result(\n",
      "C:\\ProgramData\\Anaconda3\\lib\\site-packages\\sklearn\\linear_model\\_logistic.py:763: ConvergenceWarning: lbfgs failed to converge (status=1):\n",
      "STOP: TOTAL NO. of ITERATIONS REACHED LIMIT.\n",
      "\n",
      "Increase the number of iterations (max_iter) or scale the data as shown in:\n",
      "    https://scikit-learn.org/stable/modules/preprocessing.html\n",
      "Please also refer to the documentation for alternative solver options:\n",
      "    https://scikit-learn.org/stable/modules/linear_model.html#logistic-regression\n",
      "  n_iter_i = _check_optimize_result(\n",
      "C:\\ProgramData\\Anaconda3\\lib\\site-packages\\sklearn\\linear_model\\_logistic.py:763: ConvergenceWarning: lbfgs failed to converge (status=1):\n",
      "STOP: TOTAL NO. of ITERATIONS REACHED LIMIT.\n",
      "\n",
      "Increase the number of iterations (max_iter) or scale the data as shown in:\n",
      "    https://scikit-learn.org/stable/modules/preprocessing.html\n",
      "Please also refer to the documentation for alternative solver options:\n",
      "    https://scikit-learn.org/stable/modules/linear_model.html#logistic-regression\n",
      "  n_iter_i = _check_optimize_result(\n"
     ]
    }
   ],
   "source": [
    "skfold = StratifiedKFold(n_splits = 5)\n",
    "logreg_cv = cross_val_score(logreg, X_train,y_train,cv=skfold)"
   ]
  },
  {
   "cell_type": "code",
   "execution_count": 96,
   "id": "942c6e96",
   "metadata": {},
   "outputs": [
    {
     "name": "stdout",
     "output_type": "stream",
     "text": [
      "Skor CV : \n",
      " [0.89795918 0.9109589  0.93150685 0.9109589  0.95890411]\n",
      "Rata-rata Skor CV : \n",
      " 0.9220575901593515\n"
     ]
    }
   ],
   "source": [
    "print(\"Skor CV : \\n\",logreg_cv)\n",
    "print(\"Rata-rata Skor CV : \\n\",logreg_cv.mean())"
   ]
  },
  {
   "cell_type": "code",
   "execution_count": null,
   "id": "3b658f3d",
   "metadata": {},
   "outputs": [],
   "source": []
  }
 ],
 "metadata": {
  "kernelspec": {
   "display_name": "Python 3",
   "language": "python",
   "name": "python3"
  },
  "language_info": {
   "codemirror_mode": {
    "name": "ipython",
    "version": 3
   },
   "file_extension": ".py",
   "mimetype": "text/x-python",
   "name": "python",
   "nbconvert_exporter": "python",
   "pygments_lexer": "ipython3",
   "version": "3.8.8"
  }
 },
 "nbformat": 4,
 "nbformat_minor": 5
}

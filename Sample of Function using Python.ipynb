{
 "cells": [
  {
   "cell_type": "code",
   "execution_count": 1,
   "id": "6d7ebf25",
   "metadata": {},
   "outputs": [
    {
     "name": "stdout",
     "output_type": "stream",
     "text": [
      "Enter the base of the triangle: 2\n",
      "Enter the height of the triangle: 1\n",
      "The area of the triangle is: 1.0\n"
     ]
    }
   ],
   "source": [
    "#Fungsi untuk menghitung segitiga\n",
    "def calculate_triangle_area():\n",
    "    base = float(input(\"Enter the base of the triangle: \"))\n",
    "    height = float(input(\"Enter the height of the triangle: \"))\n",
    "    area = 0.5 * base * height\n",
    "    print(f\"The area of the triangle is: {area}\")\n",
    "    \n",
    "\n",
    "# Call the function\n",
    "calculate_triangle_area()\n",
    "\n",
    "\n"
   ]
  },
  {
   "cell_type": "code",
   "execution_count": 4,
   "id": "e79433ad",
   "metadata": {},
   "outputs": [
    {
     "data": {
      "text/plain": [
       "1.0"
      ]
     },
     "execution_count": 4,
     "metadata": {},
     "output_type": "execute_result"
    }
   ],
   "source": [
    "#Fungsi untuk menghitung segitiga\n",
    "def triangle_area_base_height(base, height):\n",
    "    return 0.5 * base * height\n",
    "     \n",
    "triangle_area_base_height(2,1)"
   ]
  },
  {
   "cell_type": "code",
   "execution_count": 3,
   "id": "7b0f62a2",
   "metadata": {},
   "outputs": [
    {
     "name": "stdout",
     "output_type": "stream",
     "text": [
      "The coin landed on: Tails\n"
     ]
    }
   ],
   "source": [
    "#Fungsi lempar koin\n",
    "import random\n",
    "\n",
    "def flip_coin():\n",
    "    result = random.choice([\"Heads\", \"Tails\"])\n",
    "    print(f\"The coin landed on: {result}\")\n",
    "\n",
    "# Call the function\n",
    "flip_coin()\n",
    "\n"
   ]
  },
  {
   "cell_type": "code",
   "execution_count": 4,
   "id": "c12b87cc",
   "metadata": {},
   "outputs": [
    {
     "name": "stdout",
     "output_type": "stream",
     "text": [
      "An old silent pond...\n",
      "A frog jumps into the pond—\n",
      "Splash! Silence again.\n"
     ]
    }
   ],
   "source": [
    "#Fungsi string\n",
    "import time\n",
    "\n",
    "def print_haiku():\n",
    "    haiku = [\n",
    "        \"An old silent pond...\",\n",
    "        \"A frog jumps into the pond—\",\n",
    "        \"Splash! Silence again.\"\n",
    "    ]\n",
    "    \n",
    "    for line in haiku:\n",
    "        print(line)\n",
    "        time.sleep(1.5)  # Pause for 1.5 seconds between lines\n",
    "\n",
    "# Call the function\n",
    "print_haiku()"
   ]
  },
  {
   "cell_type": "code",
   "execution_count": 21,
   "id": "646d39bd",
   "metadata": {},
   "outputs": [],
   "source": [
    "#Fungsi dengan if else\n",
    "from datetime import datetime\n",
    "\n",
    "def isWeekday(mydate):\n",
    "    day = mydate.weekday()  #Get the number of the day of the week - Monday = 0, Tuesday = 1 etc.\n",
    "    if day < 5:\n",
    "        return True\n",
    "    else:\n",
    "        return False\n",
    "# Calls the function providing a date\n",
    "\n",
    "workday = isWeekday(datetime.now())  #Call the isWeekday function with today's date, store the returned data in a variable \"workday\"."
   ]
  },
  {
   "cell_type": "code",
   "execution_count": 6,
   "id": "e53823d3",
   "metadata": {},
   "outputs": [
    {
     "name": "stdout",
     "output_type": "stream",
     "text": [
      "True\n"
     ]
    }
   ],
   "source": [
    "print(workday)"
   ]
  },
  {
   "cell_type": "code",
   "execution_count": 7,
   "id": "cf805415",
   "metadata": {},
   "outputs": [],
   "source": [
    "from turtle import Turtle\n",
    "\n",
    "tina = Turtle()\n",
    "\n",
    "def draw_circle(t_name, r,col):\n",
    "    t_name.color(col)\n",
    "    t_name.dot(r*2)\n",
    "\n",
    "draw_circle(tina, 150, \"blue\")\n",
    "\n",
    "draw_circle(tina, 100, \"red\")\n",
    "\n",
    "draw_circle(tina, 50, \"yellow\")"
   ]
  },
  {
   "cell_type": "code",
   "execution_count": 8,
   "id": "db6d8af5",
   "metadata": {},
   "outputs": [
    {
     "data": {
      "text/plain": [
       "153.93804002589985"
      ]
     },
     "execution_count": 8,
     "metadata": {},
     "output_type": "execute_result"
    }
   ],
   "source": [
    "import math\n",
    "def circle_area(r):\n",
    "\n",
    "  return math.pi * r * r\n",
    "circle_area(7)"
   ]
  },
  {
   "cell_type": "code",
   "execution_count": 20,
   "id": "1128537d",
   "metadata": {},
   "outputs": [
    {
     "data": {
      "text/plain": [
       "(<turtle.Turtle at 0x25068bc0cd0>, 50, 'yellow')"
      ]
     },
     "execution_count": 20,
     "metadata": {},
     "output_type": "execute_result"
    }
   ],
   "source": [
    "from turtle import Turtle\n",
    "tina = Turtle()\n",
    "\n",
    "def circle_circumference(r):\n",
    "    return math.pi * 2 * r\n",
    "\n",
    "def draw_circle(t_name, r, col):\n",
    "\n",
    "    t_name.color(col)\n",
    "\n",
    "    t_name.dot(2 * r)\n",
    "    t_name.penup()\n",
    "    t_name.goto(0,5) #Assumes circle is at 0,0. How might you adapt if you have x,y parameters?\n",
    "    t_name.pendown()\n",
    "    t_name.color(\"black\")\n",
    "    t_name.write(\"Area: \" + str(circle_area(r)), align=\"center\")\n",
    "    t_name.penup()\n",
    "    t_name.goto(0,-5)\n",
    "    t_name.pendown()\n",
    "    t_name.color(\"black\")\n",
    "    t_name.write(\"Circumference: \" + str(circle_circumference(r)), align=\"center\")\n",
    "    return(t_name, r, col)\n",
    "draw_circle(tina, 50, \"yellow\")"
   ]
  },
  {
   "cell_type": "code",
   "execution_count": 18,
   "id": "c85adee3",
   "metadata": {},
   "outputs": [
    {
     "name": "stdout",
     "output_type": "stream",
     "text": [
      "luas permukaan kubus: 54\n"
     ]
    }
   ],
   "source": [
    "#For dalam fungsi\n",
    "\n",
    "def cube(s):\n",
    "    si = 6\n",
    "    luas_total = 0\n",
    "    for i in range (si):\n",
    "        luas = s * s\n",
    "        luas_total += luas\n",
    "    return luas_total\n",
    "\n",
    "    \n",
    "print(\"luas permukaan kubus:\", cube(3))"
   ]
  },
  {
   "cell_type": "code",
   "execution_count": 19,
   "id": "fd018eb1",
   "metadata": {},
   "outputs": [
    {
     "name": "stdout",
     "output_type": "stream",
     "text": [
      "luas permukaan kubus: 9\n"
     ]
    }
   ],
   "source": [
    "def cube(s):\n",
    "    luas = s * s\n",
    "    return luas\n",
    "\n",
    "    \n",
    "print(\"luas permukaan kubus:\", cube(3))"
   ]
  },
  {
   "cell_type": "code",
   "execution_count": 22,
   "id": "1b754393",
   "metadata": {},
   "outputs": [
    {
     "name": "stdout",
     "output_type": "stream",
     "text": [
      "luas permukaan kubus: 54\n"
     ]
    }
   ],
   "source": [
    "#For dalam fungsi\n",
    "\n",
    "def cube(s):\n",
    "    si = 0\n",
    "    luas = 0\n",
    "    while si < 6:\n",
    "        luas += s * s\n",
    "        si += 1\n",
    "    return luas\n",
    "\n",
    "    \n",
    "print(\"luas permukaan kubus:\", cube(3))"
   ]
  },
  {
   "cell_type": "code",
   "execution_count": 25,
   "id": "42f5a0c4",
   "metadata": {},
   "outputs": [
    {
     "name": "stdout",
     "output_type": "stream",
     "text": [
      "Luas permukaan balok: 72\n"
     ]
    }
   ],
   "source": [
    "def balok(p,l):\n",
    "    jumlah_sisi = 6\n",
    "    luas_perm = 0\n",
    "    for i in range(jumlah_sisi):\n",
    "        luas = p*l\n",
    "        luas_perm += luas\n",
    "    return luas_perm\n",
    "print(\"Luas permukaan balok:\", balok(3,4))"
   ]
  },
  {
   "cell_type": "code",
   "execution_count": 28,
   "id": "d222f330",
   "metadata": {},
   "outputs": [
    {
     "name": "stdout",
     "output_type": "stream",
     "text": [
      "Luas permukaan balok: 72\n"
     ]
    }
   ],
   "source": [
    "def balok(p,l):\n",
    "    luas = 0\n",
    "    total_luas = 0\n",
    "    jumlah_sisi = 0\n",
    "    while jumlah_sisi < 6:\n",
    "        luas += p * l\n",
    "        jumlah_sisi += 1\n",
    "    return luas\n",
    "print(\"Luas permukaan balok:\", balok(3,4))"
   ]
  },
  {
   "cell_type": "code",
   "execution_count": 33,
   "id": "b7eb9077",
   "metadata": {},
   "outputs": [
    {
     "name": "stdout",
     "output_type": "stream",
     "text": [
      "luas: 6\n"
     ]
    }
   ],
   "source": [
    "def luas_kubus(sisi):\n",
    "    if sisi < 6:\n",
    "        luas = 6 * sisi * sisi\n",
    "        return print(\"luas:\", luas)\n",
    "    else:\n",
    "        return print (\"coba lagi\")\n",
    "luas_kubus(-1)"
   ]
  },
  {
   "cell_type": "code",
   "execution_count": null,
   "id": "3c77f0a6",
   "metadata": {},
   "outputs": [],
   "source": []
  },
  {
   "cell_type": "code",
   "execution_count": null,
   "id": "df0aac99",
   "metadata": {},
   "outputs": [],
   "source": []
  },
  {
   "cell_type": "code",
   "execution_count": null,
   "id": "3af3f876",
   "metadata": {},
   "outputs": [],
   "source": []
  },
  {
   "cell_type": "code",
   "execution_count": null,
   "id": "7f8381f9",
   "metadata": {},
   "outputs": [],
   "source": []
  },
  {
   "cell_type": "code",
   "execution_count": null,
   "id": "121fd922",
   "metadata": {},
   "outputs": [],
   "source": []
  },
  {
   "cell_type": "code",
   "execution_count": null,
   "id": "f45509cd",
   "metadata": {},
   "outputs": [],
   "source": []
  },
  {
   "cell_type": "code",
   "execution_count": null,
   "id": "d5816ca4",
   "metadata": {},
   "outputs": [],
   "source": []
  },
  {
   "cell_type": "code",
   "execution_count": null,
   "id": "c64870dc",
   "metadata": {},
   "outputs": [],
   "source": []
  },
  {
   "cell_type": "code",
   "execution_count": null,
   "id": "751d3dad",
   "metadata": {},
   "outputs": [],
   "source": []
  },
  {
   "cell_type": "code",
   "execution_count": null,
   "id": "ce9ba90b",
   "metadata": {},
   "outputs": [],
   "source": []
  },
  {
   "cell_type": "code",
   "execution_count": null,
   "id": "43847a29",
   "metadata": {},
   "outputs": [],
   "source": []
  },
  {
   "cell_type": "code",
   "execution_count": null,
   "id": "0b2f5e24",
   "metadata": {},
   "outputs": [],
   "source": []
  },
  {
   "cell_type": "code",
   "execution_count": null,
   "id": "24746b60",
   "metadata": {},
   "outputs": [],
   "source": []
  },
  {
   "cell_type": "code",
   "execution_count": null,
   "id": "d6b7c0d2",
   "metadata": {},
   "outputs": [],
   "source": []
  },
  {
   "cell_type": "code",
   "execution_count": null,
   "id": "0b6a027c",
   "metadata": {},
   "outputs": [],
   "source": []
  },
  {
   "cell_type": "code",
   "execution_count": null,
   "id": "2ebd09ea",
   "metadata": {},
   "outputs": [],
   "source": []
  },
  {
   "cell_type": "code",
   "execution_count": null,
   "id": "870d728e",
   "metadata": {},
   "outputs": [],
   "source": []
  },
  {
   "cell_type": "code",
   "execution_count": null,
   "id": "0d7d88cc",
   "metadata": {},
   "outputs": [],
   "source": []
  },
  {
   "cell_type": "code",
   "execution_count": null,
   "id": "9e4e9f2a",
   "metadata": {},
   "outputs": [],
   "source": []
  },
  {
   "cell_type": "code",
   "execution_count": null,
   "id": "81996ca9",
   "metadata": {},
   "outputs": [],
   "source": []
  },
  {
   "cell_type": "code",
   "execution_count": null,
   "id": "3593f7f5",
   "metadata": {},
   "outputs": [],
   "source": []
  },
  {
   "cell_type": "code",
   "execution_count": null,
   "id": "e99bb2cb",
   "metadata": {},
   "outputs": [],
   "source": []
  },
  {
   "cell_type": "code",
   "execution_count": null,
   "id": "91582996",
   "metadata": {},
   "outputs": [],
   "source": []
  },
  {
   "cell_type": "code",
   "execution_count": null,
   "id": "5e9ca9b7",
   "metadata": {},
   "outputs": [],
   "source": []
  },
  {
   "cell_type": "code",
   "execution_count": null,
   "id": "7397f5fe",
   "metadata": {},
   "outputs": [],
   "source": []
  },
  {
   "cell_type": "code",
   "execution_count": null,
   "id": "68cc6ca0",
   "metadata": {},
   "outputs": [],
   "source": []
  },
  {
   "cell_type": "code",
   "execution_count": null,
   "id": "3561f6e7",
   "metadata": {},
   "outputs": [],
   "source": []
  },
  {
   "cell_type": "code",
   "execution_count": null,
   "id": "811d0c25",
   "metadata": {},
   "outputs": [],
   "source": []
  },
  {
   "cell_type": "code",
   "execution_count": null,
   "id": "a443d035",
   "metadata": {},
   "outputs": [],
   "source": []
  },
  {
   "cell_type": "code",
   "execution_count": null,
   "id": "f82441d0",
   "metadata": {},
   "outputs": [],
   "source": []
  },
  {
   "cell_type": "code",
   "execution_count": null,
   "id": "e6d03b83",
   "metadata": {},
   "outputs": [],
   "source": []
  },
  {
   "cell_type": "code",
   "execution_count": null,
   "id": "e1ef1522",
   "metadata": {},
   "outputs": [],
   "source": []
  },
  {
   "cell_type": "code",
   "execution_count": null,
   "id": "584bcf5d",
   "metadata": {},
   "outputs": [],
   "source": []
  },
  {
   "cell_type": "code",
   "execution_count": null,
   "id": "9511b54a",
   "metadata": {},
   "outputs": [],
   "source": []
  },
  {
   "cell_type": "code",
   "execution_count": null,
   "id": "5a8c6c80",
   "metadata": {},
   "outputs": [],
   "source": []
  },
  {
   "cell_type": "code",
   "execution_count": null,
   "id": "1c24abac",
   "metadata": {},
   "outputs": [],
   "source": []
  },
  {
   "cell_type": "code",
   "execution_count": null,
   "id": "cac7fa29",
   "metadata": {},
   "outputs": [],
   "source": []
  },
  {
   "cell_type": "code",
   "execution_count": null,
   "id": "b278c63d",
   "metadata": {},
   "outputs": [],
   "source": []
  },
  {
   "cell_type": "code",
   "execution_count": null,
   "id": "88c5023a",
   "metadata": {},
   "outputs": [],
   "source": []
  },
  {
   "cell_type": "code",
   "execution_count": null,
   "id": "33005fd8",
   "metadata": {},
   "outputs": [],
   "source": []
  },
  {
   "cell_type": "code",
   "execution_count": null,
   "id": "3712800f",
   "metadata": {},
   "outputs": [],
   "source": []
  }
 ],
 "metadata": {
  "kernelspec": {
   "display_name": "Python 3",
   "language": "python",
   "name": "python3"
  },
  "language_info": {
   "codemirror_mode": {
    "name": "ipython",
    "version": 3
   },
   "file_extension": ".py",
   "mimetype": "text/x-python",
   "name": "python",
   "nbconvert_exporter": "python",
   "pygments_lexer": "ipython3",
   "version": "3.8.8"
  }
 },
 "nbformat": 4,
 "nbformat_minor": 5
}
